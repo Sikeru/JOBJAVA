{
 "cells": [
  {
   "cell_type": "code",
   "execution_count": 58,
   "metadata": {
    "scrolled": true
   },
   "outputs": [
    {
     "name": "stdout",
     "output_type": "stream",
     "text": [
      "['날짜', '지점', '평균기온(℃)', '최저기온(℃)', '최고기온(℃)']\n",
      "======================================================================\n",
      "대전 최고 기온 : 1973-12-24 일 평균 : -14.2 최저 : -17.7 최고 : -9.6\n",
      "대전 최저 기온 : 1969-02-06 일 평균 : -10.6 최저 : -19.0 최고 : -1\n",
      "대전 일교차 기온 : 2013-03-09 일 평균 : 23.400000000000002 최저 : 2.7 최고 : 26.1\n"
     ]
    }
   ],
   "source": [
    "import csv\n",
    "\n",
    "def max_kma(datas):\n",
    "    max_h=0\n",
    "    r =['', '', '', '']\n",
    "    for row in datas:\n",
    "        if max_h > float(row[4]):\n",
    "            max_h=float(row[4])\n",
    "            r[0] = row[0]\n",
    "            r[1] = row[2]\n",
    "            r[2] = row[3]\n",
    "            r[3] = max_h\n",
    "    return r\n",
    "\n",
    "def min_kma(datas):\n",
    "    max_h=0\n",
    "    r =['', '', '', '']\n",
    "    for row in datas:\n",
    "        if max_h > float(row[3]):\n",
    "            max_h=float(row[3])\n",
    "            r[0] = row[0]\n",
    "            r[1] = row[2]\n",
    "            r[2] = max_h\n",
    "            r[3] = row[4]\n",
    "    return r\n",
    "\n",
    "def avg_kma(datas):\n",
    "    max_h=0\n",
    "    r =['', '', '', '']\n",
    "    for row in datas:\n",
    "        if max_h < abs(float(row[3])-float(row[4])):\n",
    "            max_h=abs(float(row[3])-float(row[4]))\n",
    "            r[0] = row[0]\n",
    "            r[1] = max_h\n",
    "            r[2] = row[3]\n",
    "            r[3] = row[4]\n",
    "    return r\n",
    "\n",
    "def prt(r, key):\n",
    "    print('대전 {} 기온 : {} 일 평균 : {} 최저 : {} 최고 : {}'.format(key,r[0],r[1],r[2],r[3]))\n",
    "     \n",
    "\n",
    "with open('ta_all.csv', 'r', encoding='cp949') as f:\n",
    "    data = csv.reader(f, delimiter=',')\n",
    "    #print(data)\n",
    "    header = next(data)\n",
    "    print(header)\n",
    "    print('======================================================================')\n",
    "    datas = []\n",
    "    for row in data:\n",
    "        if not(row[0] == '' or row[2] ==''or row[3] ==''):\n",
    "            datas.append(row)\n",
    "    prt(max_kma(datas), '최고')\n",
    "    prt(min_kma(datas), '최저')\n",
    "    prt(avg_kma(datas), '일교차')"
   ]
  }
 ],
 "metadata": {
  "kernelspec": {
   "display_name": "Python 3",
   "language": "python",
   "name": "python3"
  },
  "language_info": {
   "codemirror_mode": {
    "name": "ipython",
    "version": 3
   },
   "file_extension": ".py",
   "mimetype": "text/x-python",
   "name": "python",
   "nbconvert_exporter": "python",
   "pygments_lexer": "ipython3",
   "version": "3.8.3"
  }
 },
 "nbformat": 4,
 "nbformat_minor": 4
}
