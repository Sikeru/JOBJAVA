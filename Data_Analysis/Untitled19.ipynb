{
 "cells": [
  {
   "cell_type": "code",
   "execution_count": 10,
   "metadata": {},
   "outputs": [
    {
     "name": "stdout",
     "output_type": "stream",
     "text": [
      "{0: {}}\n"
     ]
    }
   ],
   "source": [
    "import csv\n",
    "import matplotlib.pyplot as plt\n",
    "from matplotlib import font_manager, rc\n",
    "\n",
    "font_path = r'C:\\Windows\\Fonts\\HANDotum.ttf'\n",
    "font = font_manager.FontProperties(fname=font_path, size=16).get_name()\n",
    "rc('font', family=font)\n",
    "\n",
    "f = open('시간대별.csv', 'r', encoding='cp949')\n",
    "data= csv.reader(f)\n",
    "header = next(data)\n",
    "next(data)\n",
    "\n",
    "# time_ride = {}\n",
    "# time_ride[0]={}\n",
    "# time_ride[0][0]=[]\n",
    "# time_ride[0][0].append(1)\n",
    "# time_ride[0][0].append(2)\n",
    "print(time_ride)\n",
    "\n",
    "time_ride = {}\n",
    "for row in data:\n",
    "    if row[3] not in time_ride:\n",
    "        #역이름으로 키갑 {'역이름':{}}\n",
    "        time_ride[row[3]] = {}\n",
    "        if header[4][0:2] not in time_ride[row[3]]:\n",
    "            #시간대로 키값 {'역이름':{'시간대':[]}}\n",
    "            for i in range(4,5):\n",
    "                time_ride[row[3]][header[4][0:2]]=[]\n",
    "                time_ride[row[3]][header[4][0:2]].append(int(row[4]))\n",
    "                time_ride[row[3]][header[4][0:2]].append(int(row[5]))\n",
    "        else:\n",
    "            time_ride[row[3]][header[4][0:2]]=[]\n",
    "            time_ride[row[3]][header[4][0:2]][0]+=int(row[4])\n",
    "            time_ride[row[3]][header[4][0:2]][0]+=int(row[5])\n",
    "        \n"
   ]
  }
 ],
 "metadata": {
  "kernelspec": {
   "display_name": "Python 3",
   "language": "python",
   "name": "python3"
  },
  "language_info": {
   "codemirror_mode": {
    "name": "ipython",
    "version": 3
   },
   "file_extension": ".py",
   "mimetype": "text/x-python",
   "name": "python",
   "nbconvert_exporter": "python",
   "pygments_lexer": "ipython3",
   "version": "3.8.3"
  }
 },
 "nbformat": 4,
 "nbformat_minor": 4
}
