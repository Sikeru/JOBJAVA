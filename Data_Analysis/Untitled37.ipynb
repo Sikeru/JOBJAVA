{
 "cells": [
  {
   "cell_type": "markdown",
   "metadata": {},
   "source": [
    "## 대전광역시 의료서비스 실태조사\n",
    "### 1. 개요\n",
    "### 2.구별 병.의원 현황\n",
    "### 3.구별 인구현황\n",
    "### 4.대전시 병.의원 입원진료 유출입 현황\n",
    "### 5.구별 노인(65세 이상)인구 현황\n",
    "### 6.구별 병의원당 인구 비율\n",
    "### 7.대전시 병의원 진료과목 현황\n",
    "### 8.대전시민 진료과목별 진료현황\n",
    "### 9.결론"
   ]
  },
  {
   "cell_type": "code",
   "execution_count": null,
   "metadata": {},
   "outputs": [],
   "source": []
  }
 ],
 "metadata": {
  "kernelspec": {
   "display_name": "Python 3",
   "language": "python",
   "name": "python3"
  },
  "language_info": {
   "codemirror_mode": {
    "name": "ipython",
    "version": 3
   },
   "file_extension": ".py",
   "mimetype": "text/x-python",
   "name": "python",
   "nbconvert_exporter": "python",
   "pygments_lexer": "ipython3",
   "version": "3.8.3"
  }
 },
 "nbformat": 4,
 "nbformat_minor": 4
}
