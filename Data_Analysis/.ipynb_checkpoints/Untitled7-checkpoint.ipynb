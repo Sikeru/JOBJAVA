{
 "cells": [
  {
   "cell_type": "code",
   "execution_count": null,
   "metadata": {},
   "outputs": [],
   "source": [
    "import csv\n",
    "import matplotlib.pyplot as plt\n",
    "from matplotlib import font_manager, rc\n",
    "\n",
    "font_path = r'C:\\Windows\\Fonts\\HANDotum.ttf'\n",
    "font = font_manager.FontProperties(fname=font_path, size=16).get_name()\n",
    "rc('font', family=font)\n",
    "\n",
    "f = open('인구현황.csv', 'r', encoding='cp949')\n",
    "\n",
    "data = csv.reader(f)\n",
    "\n",
    "m = []\n",
    "w = []\n",
    "for row in data:\n",
    "    if '수곡1동' row[0]:\n",
    "        for i in range(106, 207):\n",
    "            m.append(int(row[i]))\n",
    "            w.append(int(row[i+103]))\n",
    "            \n",
    "plt.title('청주 수곡1동 남여 인구 그래프')\n",
    "plt.plot(m, label = '남')\n",
    "plt.plot(w, label = '여')\n",
    "plt.legend()\n",
    "plt.show()\n",
    "    "
   ]
  }
 ],
 "metadata": {
  "kernelspec": {
   "display_name": "Python 3",
   "language": "python",
   "name": "python3"
  },
  "language_info": {
   "codemirror_mode": {
    "name": "ipython",
    "version": 3
   },
   "file_extension": ".py",
   "mimetype": "text/x-python",
   "name": "python",
   "nbconvert_exporter": "python",
   "pygments_lexer": "ipython3",
   "version": "3.8.3"
  }
 },
 "nbformat": 4,
 "nbformat_minor": 4
}
