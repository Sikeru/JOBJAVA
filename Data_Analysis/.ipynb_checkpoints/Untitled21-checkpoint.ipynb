{
 "cells": [
  {
   "cell_type": "code",
   "execution_count": null,
   "metadata": {},
   "outputs": [],
   "source": [
    "import csv\n",
    "import matplotlib.pyplot as plt\n",
    "from matplotlib import font_manager, rc\n",
    "\n",
    "font_path = r'C:\\Windows\\Fonts\\HANDotum.ttf'\n",
    "font = font_manager.FontProperties(fname=font_path, size=16).get_name()\n",
    "rc('font', family=font)\n",
    "\n",
    "f = open('시간대별.csv', 'r', encoding='cp949')\n",
    "data= csv.reader(f)\n",
    "header = next(data)\n",
    "next(data)"
   ]
  }
 ],
 "metadata": {
  "kernelspec": {
   "display_name": "Python 3",
   "language": "python",
   "name": "python3"
  },
  "language_info": {
   "codemirror_mode": {
    "name": "ipython",
    "version": 3
   },
   "file_extension": ".py",
   "mimetype": "text/x-python",
   "name": "python",
   "nbconvert_exporter": "python",
   "pygments_lexer": "ipython3",
   "version": "3.8.3"
  }
 },
 "nbformat": 4,
 "nbformat_minor": 4
}
