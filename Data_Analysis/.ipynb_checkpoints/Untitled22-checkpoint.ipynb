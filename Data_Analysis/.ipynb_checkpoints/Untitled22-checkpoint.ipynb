{
 "cells": [
  {
   "cell_type": "code",
   "execution_count": 36,
   "metadata": {},
   "outputs": [
    {
     "data": {
      "image/png": "[encoded data removed]",
      "text/plain": [
       "<Figure size 1440x720 with 1 Axes>"
      ]
     },
     "metadata": {
      "needs_background": "light"
     },
     "output_type": "display_data"
    }
   ],
   "source": [
    "#1. 대전 2020 2월 지하철 역별 승하차 인원에 대한 그래프\n",
    "import csv\n",
    "import matplotlib.pyplot as plt\n",
    "from matplotlib import font_manager, rc\n",
    "import numpy as np\n",
    "\n",
    "font_path = r'C:\\Windows\\Fonts\\HANDotum.ttf'\n",
    "font = font_manager.FontProperties(fname=font_path, size=16).get_name()\n",
    "rc('font', family=font)\n",
    "\n",
    "f = open('대전승하차인원.csv', 'r', encoding='cp949')\n",
    "data= csv.reader(f)\n",
    "header = next(data)\n",
    "\n",
    "#5. 일자별 승하차 인원 그래프 \n",
    "#for row in data:\n",
    "    #print(row[3])\n",
    "\n",
    "station_ride = {}\n",
    "for row in data:\n",
    "    if row[0][5:7]==\"02\":\n",
    "        if row[2] not in station_ride:\n",
    "            station_ride[row[2]]=[0]*2\n",
    "            for i in range(4,28):\n",
    "                station_ride[row[2]][0]+=int(row[i])\n",
    "        else:\n",
    "            if station_ride[row[2]][1] == 0:\n",
    "                for i in range(4,28):\n",
    "                    station_ride[row[2]][1]+=int(row[i])\n",
    "            else:\n",
    "                if row[3] ==\"승차\":\n",
    "                    for i in range(4,28):\n",
    "                        station_ride[row[2]][0]+=int(row[i])\n",
    "                else:\n",
    "                    for i in range(4,28):\n",
    "                        station_ride[row[2]][1]+=int(row[i])  \n",
    "station = []\n",
    "rides = []\n",
    "quits = []\n",
    "#print(station_ride)\n",
    "for key, num in station_ride.items():\n",
    "    station.append(key)\n",
    "    rides.append(num[0])\n",
    "    quits.append(num[1])\n",
    "\n",
    "plt.figure(figsize=(20,10))\n",
    "# plt.plot(station, rides, label='승차')\n",
    "# plt.plot(station, quits, label='하차')\n",
    "plt.bar(range(0,(22*2)-1,2), rides, width=1, label='승차')\n",
    "plt.bar(range(1,(22*2)+1,2), quits, width=1, label='하차')\n",
    "plt.xticks(rotation=45)\n",
    "plt.legend()\n",
    "plt.show()\n"
   ]
  },
  {
   "cell_type": "code",
   "execution_count": 38,
   "metadata": {},
   "outputs": [
    {
     "name": "stdout",
     "output_type": "stream",
     "text": [
      "가장많은 승차인원 : 대전역, 가장많은 하차인원 :대전역\n"
     ]
    }
   ],
   "source": [
    "#2. 가장 많은 승차인원에 해당하는 역 찿기\n",
    "#3. 가장 많은 하차인원에 해당하는 역 찿기\n",
    "import csv\n",
    "import matplotlib.pyplot as plt\n",
    "from matplotlib import font_manager, rc\n",
    "\n",
    "font_path = r'C:\\Windows\\Fonts\\HANDotum.ttf'\n",
    "font = font_manager.FontProperties(fname=font_path, size=16).get_name()\n",
    "rc('font', family=font)\n",
    "\n",
    "f = open('대전승하차인원.csv', 'r', encoding='cp949')\n",
    "data= csv.reader(f)\n",
    "header = next(data)\n",
    "\n",
    "station_ride = {}\n",
    "for row in data:\n",
    "    if row[0][5:7]==\"02\":\n",
    "        if row[2] not in station_ride:\n",
    "            station_ride[row[2]]=[0]*2\n",
    "            for i in range(4,28):\n",
    "                station_ride[row[2]][0]+=int(row[i])\n",
    "        else:\n",
    "            if station_ride[row[2]][1] == 0:\n",
    "                for i in range(4,28):\n",
    "                    station_ride[row[2]][1]+=int(row[i])\n",
    "            else:\n",
    "                if row[3] ==\"승차\":\n",
    "                    for i in range(4,28):\n",
    "                        station_ride[row[2]][0]+=int(row[i])\n",
    "                else:\n",
    "                    for i in range(4,28):\n",
    "                        station_ride[row[2]][1]+=int(row[i])\n",
    "mx = [0]*2\n",
    "station=['']*2\n",
    "for key, value in station_ride.items():\n",
    "    if value[0] > mx[0]:\n",
    "        mx[0]=value[0]\n",
    "        station[0] = key\n",
    "        \n",
    "    if value[1] > mx[1]:\n",
    "        mx[1]=value[1]\n",
    "        station[1] = key\n",
    "\n",
    "print('가장많은 승차인원 : {}역, 가장많은 하차인원 :{}역'.format(station[0], station[1]))"
   ]
  },
  {
   "cell_type": "code",
   "execution_count": null,
   "metadata": {},
   "outputs": [],
   "source": [
    "import csv\n",
    "import matplotlib.pyplot as plt\n",
    "from matplotlib import font_manager, rc\n",
    "import numpy as np\n",
    "\n",
    "font_path = r'C:\\Windows\\Fonts\\HANDotum.ttf'\n",
    "font = font_manager.FontProperties(fname=font_path, size=16).get_name()\n",
    "rc('font', family=font)\n",
    "\n",
    "f = open('대전승하차인원.csv', 'r', encoding='cp949')\n",
    "data= csv.reader(f)\n",
    "header = next(data)\n",
    "\n",
    "\n",
    "station_ride = {}\n",
    "for row in data:\n",
    "    if row[0][5:7]==\"02\":\n",
    "        if row[2] not in station_ride:\n",
    "            station_ride[row[2]]=[0]*2\n",
    "            for i in range(4,28):\n",
    "                station_ride[row[2]][0]+=int(row[i])\n",
    "        else:\n",
    "            if station_ride[row[2]][1] == 0:\n",
    "                for i in range(4,28):\n",
    "                    station_ride[row[2]][1]+=int(row[i])\n",
    "            else:\n",
    "                if row[3] ==\"승차\":\n",
    "                    for i in range(4,28):\n",
    "                        station_ride[row[2]][0]+=int(row[i])\n",
    "                else:\n",
    "                    for i in range(4,28):\n",
    "                        station_ride[row[2]][1]+=int(row[i])"
   ]
  }
 ],
 "metadata": {
  "kernelspec": {
   "display_name": "Python 3",
   "language": "python",
   "name": "python3"
  },
  "language_info": {
   "codemirror_mode": {
    "name": "ipython",
    "version": 3
   },
   "file_extension": ".py",
   "mimetype": "text/x-python",
   "name": "python",
   "nbconvert_exporter": "python",
   "pygments_lexer": "ipython3",
   "version": "3.8.3"
  }
 },
 "nbformat": 4,
 "nbformat_minor": 4
}
