{
 "cells": [
  {
   "cell_type": "code",
   "execution_count": 17,
   "metadata": {},
   "outputs": [
    {
     "name": "stderr",
     "output_type": "stream",
     "text": [
      "<ipython-input-17-6c91518296b1>:5: DeprecationWarning: executable_path has been deprecated, please pass in a Service object\n",
      "  driver = webdriver.Chrome(executable_path='./chromedriver')\n",
      "<ipython-input-17-6c91518296b1>:9: DeprecationWarning: find_element_by_xpath is deprecated. Please use find_element(by=By.XPATH, value=xpath) instead\n",
      "  driver.find_element_by_xpath('/html/body/div/div/div/div/div[1]/div/button[1]').click()\n",
      "<ipython-input-17-6c91518296b1>:11: DeprecationWarning: find_element_by_xpath is deprecated. Please use find_element(by=By.XPATH, value=xpath) instead\n",
      "  driver.find_element_by_xpath('/html/body/div/div/div[2]/div/div[3]/button').click()\n",
      "<ipython-input-17-6c91518296b1>:13: DeprecationWarning: find_element_by_xpath is deprecated. Please use find_element(by=By.XPATH, value=xpath) instead\n",
      "  driver.find_element_by_xpath('//*[@id=\"auth0-lock-container-1\"]/div/div[2]/form/div/div/div/div/div[2]/div[2]/span/div/div/div/div/div/div/div/div/div/div/div[1]/div/input').send_keys(\"wltn5582\")\n",
      "<ipython-input-17-6c91518296b1>:15: DeprecationWarning: find_element_by_xpath is deprecated. Please use find_element(by=By.XPATH, value=xpath) instead\n",
      "  driver.find_element_by_xpath('//*[@id=\"1-password\"]').send_keys(\"qkr02071230\")\n",
      "<ipython-input-17-6c91518296b1>:17: DeprecationWarning: find_element_by_xpath is deprecated. Please use find_element(by=By.XPATH, value=xpath) instead\n",
      "  driver.find_element_by_xpath('//*[@id=\"1-submit\"]').click()\n"
     ]
    }
   ],
   "source": [
    "import csv\n",
    "from selenium import webdriver\n",
    "import time\n",
    "\n",
    "driver = webdriver.Chrome(executable_path='./chromedriver')\n",
    "url = 'https://machinelearningforkids.co.uk/'\n",
    "driver.get(url)\n",
    "time.sleep(3)\n",
    "driver.find_element_by_xpath('/html/body/div/div/div/div/div[1]/div/button[1]').click()\n",
    "time.sleep(3)\n",
    "driver.find_element_by_xpath('/html/body/div/div/div[2]/div/div[3]/button').click()\n",
    "time.sleep(3)\n",
    "driver.find_element_by_xpath('//*[@id=\"auth0-lock-container-1\"]/div/div[2]/form/div/div/div/div/div[2]/div[2]/span/div/div/div/div/div/div/div/div/div/div/div[1]/div/input').send_keys(\"wltn5582\")\n",
    "time.sleep(3)\n",
    "driver.find_element_by_xpath('//*[@id=\"1-password\"]').send_keys(\"qkr02071230\")\n",
    "time.sleep(3)\n",
    "driver.find_element_by_xpath('//*[@id=\"1-submit\"]').click()\n",
    "time.sleep(3)\n",
    "driver.find_element_by_xpath('/html/body/div/div/div/div/div[1]/div/button[2]').click()\n",
    "time.sleep(3)\n",
    "driver.find_element_by_xpath('//*[@id=\"8f66ace0-b745-11ec-8e5f-3f36119ee050\"]/div[1]').click()\n",
    "time.sleep(3)\n",
    "driver.find_element_by_xpath('/html/body/div/div/div/div[2]/div[1]/div[3]/button').click()\n",
    "\n",
    "f=open('한번더실험.csv', 'r', encoding='cp949')\n",
    "data=csv.reader(f)\n",
    "next(data)\n",
    "header = next(data)\n",
    "\n",
    "\n"
   ]
  }
 ],
 "metadata": {
  "kernelspec": {
   "display_name": "Python 3",
   "language": "python",
   "name": "python3"
  },
  "language_info": {
   "codemirror_mode": {
    "name": "ipython",
    "version": 3
   },
   "file_extension": ".py",
   "mimetype": "text/x-python",
   "name": "python",
   "nbconvert_exporter": "python",
   "pygments_lexer": "ipython3",
   "version": "3.8.3"
  }
 },
 "nbformat": 4,
 "nbformat_minor": 4
}
