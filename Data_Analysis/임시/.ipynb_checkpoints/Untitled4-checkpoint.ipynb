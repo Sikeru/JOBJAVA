{
 "cells": [
  {
   "cell_type": "code",
   "execution_count": 16,
   "metadata": {},
   "outputs": [
    {
     "name": "stdout",
     "output_type": "stream",
     "text": [
      "                              경기수     금     은     동      계\n",
      "국가 (IOC 코드)                                               \n",
      "총합                             28  5116  5082  5490  15688\n",
      "미국 (USA) [P] [Q] [R] [Z] [F]   27  1022   795   706   2523\n",
      "소련 (URS) [URS]                  9   395   319   296   1010\n",
      "영국 (GBR) [GBR] [Z]             28   263   295   293    851\n",
      "중화인민공화국 (CHN) [CHN]            10   224   167   155    546\n",
      "...                           ...   ...   ...   ...    ...\n",
      "레바논 (LIB)                      17     0     2     2      4\n",
      "세르비아 몬테네그로 (SCG) [SCG]          1     0     2     0      2\n",
      "지부티 (DJI) [B]                   8     0     0     1      1\n",
      "키프로스 (CYP)                     10     0     1     0      1\n",
      "아프가니스탄 (AFG)                   14     0     0     2      2\n",
      "\n",
      "[153 rows x 5 columns]\n"
     ]
    }
   ],
   "source": [
    "import pandas as pd\n",
    "df = pd.read_html('https://ko.wikipedia.org/wiki/%EC%98%AC%EB%A6%BC%ED%94%BD_%EB%A9%94%EB%8B%AC_%EC%A7%91%EA%B3%84', header=0, index_col=0)\n",
    "#df1 = pd.read_html('https://en.wikipedia.org/wiki/All-time_Olympic_Games_medal_table')\n",
    "summer = df[0].iloc[:, :5]\n",
    "summer.columns = ['경기수', '금', '은', '동', '계']\n",
    "print(summer.sort_values('금', ascending=False))\n",
    "summer.to_excel('하계올림픽메달.xlsx')"
   ]
  }
 ],
 "metadata": {
  "kernelspec": {
   "display_name": "Python 3",
   "language": "python",
   "name": "python3"
  },
  "language_info": {
   "codemirror_mode": {
    "name": "ipython",
    "version": 3
   },
   "file_extension": ".py",
   "mimetype": "text/x-python",
   "name": "python",
   "nbconvert_exporter": "python",
   "pygments_lexer": "ipython3",
   "version": "3.8.3"
  }
 },
 "nbformat": 4,
 "nbformat_minor": 4
}
