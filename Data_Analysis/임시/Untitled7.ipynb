{
 "cells": [
  {
   "cell_type": "code",
   "execution_count": null,
   "metadata": {},
   "outputs": [],
   "source": [
    "import pandas as pd\n",
    "import matplotlib.pyplot as plt\n",
    "from matplotlib import font_manager, rc\n",
    "import numpy as np\n",
    "\n",
    "font_path = r'C:\\Windows\\Fonts\\HANDotum.ttf'\n",
    "font = font_manager.FontProperties(fname=font_path, size=16).get_name()\n",
    "rc('font', family=font)\n",
    "\n",
    "df = pd.read_csv('D:\\Data_Analysis\\인구현황.csv', encoding='cp949', header=1, index_col=0)\n",
    "del df['2022년03월_계_총인구수'], df['2022년03월_계_연령구간인구수']\n",
    "columns = []\n",
    "for i in range(101):\n",
    "    columns.append(str(i)+'세')\n",
    "data = df.iloc[:, :101]\n",
    "data.columns = columns\n",
    "\n",
    "#ame = input('원하는 지역을 입력하세요')\n",
    "ame = '수곡1동'\n",
    "result = data.index.str.contains(name)\n",
    "re_data = data[result]\n",
    "df2 = re_data\n",
    "\n",
    "data.loc[np.power(data.sub(df2.iloc[0], axis=1), 2).sum(axis=1).sort_values().index[:5]].T.plot()\n",
    "plt.figure(figsize=(20,10))\n",
    "plt.show()"
   ]
  }
 ],
 "metadata": {
  "kernelspec": {
   "display_name": "Python 3",
   "language": "python",
   "name": "python3"
  },
  "language_info": {
   "codemirror_mode": {
    "name": "ipython",
    "version": 3
   },
   "file_extension": ".py",
   "mimetype": "text/x-python",
   "name": "python",
   "nbconvert_exporter": "python",
   "pygments_lexer": "ipython3",
   "version": "3.8.3"
  }
 },
 "nbformat": 4,
 "nbformat_minor": 4
}
