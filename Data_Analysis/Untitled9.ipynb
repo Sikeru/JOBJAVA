{
 "cells": [
  {
   "cell_type": "code",
   "execution_count": 20,
   "metadata": {},
   "outputs": [
    {
     "data": {
      "image/png": "[encoded data removed]",
      "text/plain": [
       "<Figure size 432x288 with 1 Axes>"
      ]
     },
     "metadata": {
      "needs_background": "light"
     },
     "output_type": "display_data"
    }
   ],
   "source": [
    "import csv\n",
    "import matplotlib.pyplot as plt\n",
    "from matplotlib import font_manager, rc\n",
    "\n",
    "font_path = r'C:\\Windows\\Fonts\\HANDotum.ttf'\n",
    "font = font_manager.FontProperties(fname=font_path, size=16).get_name()\n",
    "rc('font', family=font)\n",
    "\n",
    "f = open('인구현황.csv', 'r', encoding='cp949')\n",
    "\n",
    "data = csv.reader(f)\n",
    "# m = []\n",
    "# f = []\n",
    "for row in data:\n",
    "    if '대전광역시  (' in row[0]:\n",
    "        m = [int(val)*-1 for val in row[106:207]]\n",
    "        f = [int(val) for val in row[209:310]]\n",
    "    \n",
    "plt.barh(range(101), m, label = '남')\n",
    "plt.barh(range(101), f, label = '여')\n",
    "plt.legend(loc='lower right')\n",
    "plt.legend(loc='best')\n",
    "plt.show()\n",
    "        "
   ]
  }
 ],
 "metadata": {
  "kernelspec": {
   "display_name": "Python 3",
   "language": "python",
   "name": "python3"
  },
  "language_info": {
   "codemirror_mode": {
    "name": "ipython",
    "version": 3
   },
   "file_extension": ".py",
   "mimetype": "text/x-python",
   "name": "python",
   "nbconvert_exporter": "python",
   "pygments_lexer": "ipython3",
   "version": "3.8.3"
  }
 },
 "nbformat": 4,
 "nbformat_minor": 4
}
