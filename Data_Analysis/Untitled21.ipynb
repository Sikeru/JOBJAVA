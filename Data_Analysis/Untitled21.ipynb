{
 "cells": [
  {
   "cell_type": "code",
   "execution_count": 12,
   "metadata": {},
   "outputs": [
    {
     "name": "stdout",
     "output_type": "stream",
     "text": [
      "시간 : 4, 인원 : 9900 역 : 구로 \n",
      "시간 : 5, 인원 : 35115 역 : 신림 \n",
      "시간 : 6, 인원 : 69965 역 : 신림 \n",
      "시간 : 7, 인원 : 181795 역 : 신림 \n",
      "시간 : 8, 인원 : 280991 역 : 신림 \n",
      "시간 : 9, 인원 : 165255 역 : 신림 \n",
      "시간 : 10, 인원 : 86565 역 : 신림 \n",
      "시간 : 11, 인원 : 72077 역 : 신림 \n",
      "시간 : 12, 인원 : 77782 역 : 신림 \n",
      "시간 : 13, 인원 : 86853 역 : 강남 \n",
      "시간 : 14, 인원 : 96497 역 : 강남 \n",
      "시간 : 15, 인원 : 119346 역 : 강남 \n",
      "시간 : 16, 인원 : 136106 역 : 강남 \n",
      "시간 : 17, 인원 : 201018 역 : 강남 \n",
      "시간 : 18, 인원 : 281548 역 : 강남 \n",
      "시간 : 19, 인원 : 179839 역 : 강남 \n",
      "시간 : 20, 인원 : 136077 역 : 강남 \n",
      "시간 : 21, 인원 : 155659 역 : 강남 \n",
      "시간 : 22, 인원 : 158942 역 : 강남 \n",
      "시간 : 23, 인원 : 76058 역 : 홍대입구 \n",
      "시간 : 0, 인원 : 607 역 : 정자 \n",
      "시간 : 1, 인원 : 6 역 : 창동 \n",
      "시간 : 2, 인원 : 2 역 : 지축 \n",
      "시간 : 3, 인원 : 0 역 :  \n"
     ]
    }
   ],
   "source": [
    "import csv\n",
    "import matplotlib.pyplot as plt\n",
    "from matplotlib import font_manager, rc\n",
    "\n",
    "font_path = r'C:\\Windows\\Fonts\\HANDotum.ttf'\n",
    "font = font_manager.FontProperties(fname=font_path, size=16).get_name()\n",
    "rc('font', family=font)\n",
    "\n",
    "f = open('시간대별.csv', 'r', encoding='cp949')\n",
    "data= csv.reader(f)\n",
    "header = next(data)\n",
    "next(data)\n",
    "mx = [0] * 24\n",
    "mx_station = ['']*24\n",
    "for row in data:\n",
    "    row[4:52] = map(int, row[4:52])\n",
    "    for j in range(24):\n",
    "        a = row[j*2+4]\n",
    "        if a > mx[j]:\n",
    "            mx[j] = a\n",
    "            mx_station[j] = row[3]\n",
    "\n",
    "for i in range(24):\n",
    "    print('시간 : {}, 인원 : {} 역 : {} '.format((i+4)%24 ,mx[i], mx_station[i]))"
   ]
  }
 ],
 "metadata": {
  "kernelspec": {
   "display_name": "Python 3",
   "language": "python",
   "name": "python3"
  },
  "language_info": {
   "codemirror_mode": {
    "name": "ipython",
    "version": 3
   },
   "file_extension": ".py",
   "mimetype": "text/x-python",
   "name": "python",
   "nbconvert_exporter": "python",
   "pygments_lexer": "ipython3",
   "version": "3.8.3"
  }
 },
 "nbformat": 4,
 "nbformat_minor": 4
}
