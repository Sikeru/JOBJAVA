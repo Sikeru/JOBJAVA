{
 "cells": [
  {
   "cell_type": "code",
   "execution_count": 30,
   "metadata": {
    "scrolled": true
   },
   "outputs": [
    {
     "name": "stderr",
     "output_type": "stream",
     "text": [
      "<ipython-input-30-a02cf3bcef02>:5: DeprecationWarning: executable_path has been deprecated, please pass in a Service object\n",
      "  driver = webdriver.Chrome(executable_path='./chromedriver')\n",
      "<ipython-input-30-a02cf3bcef02>:10: DeprecationWarning: find_element_by_xpath is deprecated. Please use find_element(by=By.XPATH, value=xpath) instead\n",
      "  driver.find_element_by_xpath('//*[@id=\"hsis_clcd\"]/option[4]').click()\n",
      "<ipython-input-30-a02cf3bcef02>:12: DeprecationWarning: find_element_by_xpath is deprecated. Please use find_element(by=By.XPATH, value=xpath) instead\n",
      "  driver.find_element_by_xpath('//*[@id=\"mdjs_sidocode\"]/option[8]').click()\n",
      "<ipython-input-30-a02cf3bcef02>:14: DeprecationWarning: find_element_by_xpath is deprecated. Please use find_element(by=By.XPATH, value=xpath) instead\n",
      "  driver.find_element_by_xpath('//*[@id=\"frm\"]/div[2]/div[6]/a').click()\n"
     ]
    },
    {
     "ename": "PermissionError",
     "evalue": "[Errno 13] Permission denied: '병원.csv'",
     "output_type": "error",
     "traceback": [
      "\u001b[1;31m---------------------------------------------------------------------------\u001b[0m",
      "\u001b[1;31mPermissionError\u001b[0m                           Traceback (most recent call last)",
      "\u001b[1;32m<ipython-input-30-a02cf3bcef02>\u001b[0m in \u001b[0;36m<module>\u001b[1;34m\u001b[0m\n\u001b[0;32m     15\u001b[0m \u001b[0mtime\u001b[0m\u001b[1;33m.\u001b[0m\u001b[0msleep\u001b[0m\u001b[1;33m(\u001b[0m\u001b[1;36m3\u001b[0m\u001b[1;33m)\u001b[0m\u001b[1;33m\u001b[0m\u001b[1;33m\u001b[0m\u001b[0m\n\u001b[0;32m     16\u001b[0m \u001b[1;33m\u001b[0m\u001b[0m\n\u001b[1;32m---> 17\u001b[1;33m \u001b[0mf\u001b[0m\u001b[1;33m=\u001b[0m\u001b[0mopen\u001b[0m\u001b[1;33m(\u001b[0m\u001b[1;34m'병원.csv'\u001b[0m\u001b[1;33m,\u001b[0m \u001b[1;34m'w'\u001b[0m\u001b[1;33m,\u001b[0m \u001b[0mnewline\u001b[0m\u001b[1;33m=\u001b[0m\u001b[1;34m\"\"\u001b[0m\u001b[1;33m)\u001b[0m\u001b[1;33m\u001b[0m\u001b[1;33m\u001b[0m\u001b[0m\n\u001b[0m\u001b[0;32m     18\u001b[0m \u001b[0mwr\u001b[0m \u001b[1;33m=\u001b[0m \u001b[0mcsv\u001b[0m\u001b[1;33m.\u001b[0m\u001b[0mwriter\u001b[0m\u001b[1;33m(\u001b[0m\u001b[0mf\u001b[0m\u001b[1;33m)\u001b[0m\u001b[1;33m\u001b[0m\u001b[1;33m\u001b[0m\u001b[0m\n\u001b[0;32m     19\u001b[0m \u001b[0mwr\u001b[0m\u001b[1;33m.\u001b[0m\u001b[0mwriterow\u001b[0m\u001b[1;33m(\u001b[0m\u001b[1;33m[\u001b[0m\u001b[1;34m'연번'\u001b[0m\u001b[1;33m,\u001b[0m \u001b[1;34m'의료기관명'\u001b[0m\u001b[1;33m,\u001b[0m \u001b[1;34m'주소'\u001b[0m\u001b[1;33m,\u001b[0m \u001b[1;34m'전화번호'\u001b[0m\u001b[1;33m]\u001b[0m\u001b[1;33m)\u001b[0m\u001b[1;33m\u001b[0m\u001b[1;33m\u001b[0m\u001b[0m\n",
      "\u001b[1;31mPermissionError\u001b[0m: [Errno 13] Permission denied: '병원.csv'"
     ]
    }
   ],
   "source": [
    "import csv\n",
    "from selenium import webdriver\n",
    "import time\n",
    "\n",
    "driver = webdriver.Chrome(executable_path='./chromedriver')\n",
    "url = 'https://medisvc.com/hospital/fo/area/250000/hospitallist.sd'\n",
    "driver.get(url)\n",
    "time.sleep(2)\n",
    "\n",
    "driver.find_element_by_xpath('//*[@id=\"hsis_clcd\"]/option[4]').click()\n",
    "time.sleep(1)\n",
    "driver.find_element_by_xpath('//*[@id=\"mdjs_sidocode\"]/option[8]').click()\n",
    "time.sleep(1)\n",
    "driver.find_element_by_xpath('//*[@id=\"frm\"]/div[2]/div[6]/a').click()\n",
    "time.sleep(3)\n",
    "\n",
    "f=open('병원.csv', 'w', newline=\"\")\n",
    "wr = csv.writer(f)\n",
    "wr.writerow(['연번', '의료기관명', '주소', '전화번호'])\n",
    "cnt=1\n",
    "for i in range(4,11):\n",
    "    for j in range(1,11):\n",
    "        if i == 10 and j == 8:\n",
    "            break\n",
    "        name = driver.find_element_by_xpath('//*[@id=\"frm\"]/div[3]/div[2]/div['+str(j)+']/div/div[2]/div/h4').text\n",
    "        addr = driver.find_element_by_xpath('//*[@id=\"frm\"]/div[3]/div[2]/div['+str(j)+']/div/div[3]/div/ul[2]/li[3]/a').text\n",
    "        tel = driver.find_element_by_xpath('//*[@id=\"frm\"]/div[3]/div[2]/div['+str(j)+']/div/div[3]/div/ul[2]/li[2]/a').text\n",
    "        wr.writerow([cnt,name,addr,tel])\n",
    "        cnt+=1\n",
    "    time.sleep(2) \n",
    "    driver.find_element_by_xpath('//*[@id=\"frm\"]/div[3]/div[2]/div[11]/div/nav/ul/li['+str(i)+']/a').click()\n",
    "    \n",
    "f.close()\n",
    "driver.close()"
   ]
  },
  {
   "cell_type": "code",
   "execution_count": 34,
   "metadata": {
    "scrolled": true
   },
   "outputs": [
    {
     "name": "stderr",
     "output_type": "stream",
     "text": [
      "<ipython-input-34-ea7fce253edd>:3: DeprecationWarning: executable_path has been deprecated, please pass in a Service object\n",
      "  driver = webdriver.Chrome(executable_path='./chromedriver')\n",
      "<ipython-input-34-ea7fce253edd>:8: DeprecationWarning: find_element_by_xpath is deprecated. Please use find_element(by=By.XPATH, value=xpath) instead\n",
      "  driver.find_element_by_xpath('//*[@id=\"hsis_clcd\"]/option[5]').click()\n",
      "<ipython-input-34-ea7fce253edd>:10: DeprecationWarning: find_element_by_xpath is deprecated. Please use find_element(by=By.XPATH, value=xpath) instead\n",
      "  driver.find_element_by_xpath('//*[@id=\"mdjs_sidocode\"]/option[8]').click()\n",
      "<ipython-input-34-ea7fce253edd>:12: DeprecationWarning: find_element_by_xpath is deprecated. Please use find_element(by=By.XPATH, value=xpath) instead\n",
      "  driver.find_element_by_xpath('//*[@id=\"frm\"]/div[2]/div[6]/a').click()\n",
      "<ipython-input-34-ea7fce253edd>:24: DeprecationWarning: find_element_by_xpath is deprecated. Please use find_element(by=By.XPATH, value=xpath) instead\n",
      "  name = driver.find_element_by_xpath('//*[@id=\"frm\"]/div[3]/div[2]/div['+str(j)+']/div/div[2]/div/h4').text\n",
      "<ipython-input-34-ea7fce253edd>:25: DeprecationWarning: find_element_by_xpath is deprecated. Please use find_element(by=By.XPATH, value=xpath) instead\n",
      "  addr = driver.find_element_by_xpath('//*[@id=\"frm\"]/div[3]/div[2]/div['+str(j)+']/div/div[3]/div/ul[2]/li[3]/a').text\n",
      "<ipython-input-34-ea7fce253edd>:26: DeprecationWarning: find_element_by_xpath is deprecated. Please use find_element(by=By.XPATH, value=xpath) instead\n",
      "  tel = driver.find_element_by_xpath('//*[@id=\"frm\"]/div[3]/div[2]/div['+str(j)+']/div/div[3]/div/ul[2]/li[2]/a').text\n",
      "<ipython-input-34-ea7fce253edd>:31: DeprecationWarning: find_element_by_xpath is deprecated. Please use find_element(by=By.XPATH, value=xpath) instead\n",
      "  driver.find_element_by_xpath('//*[@id=\"frm\"]/div[3]/div[2]/div[11]/div/nav/ul/li['+str(i)+']/a').click()\n",
      "<ipython-input-34-ea7fce253edd>:33: DeprecationWarning: find_element_by_xpath is deprecated. Please use find_element(by=By.XPATH, value=xpath) instead\n",
      "  driver.find_element_by_xpath('//*[@id=\"frm\"]/div[3]/div[2]/div[11]/div/nav/ul/li[13]/a').click()\n"
     ]
    },
    {
     "ename": "NoSuchElementException",
     "evalue": "Message: no such element: Unable to locate element: {\"method\":\"xpath\",\"selector\":\"//*[@id=\"frm\"]/div[3]/div[2]/div[4]/div/div[2]/div/h4\"}\n  (Session info: chrome=100.0.4896.88)\nStacktrace:\nBacktrace:\n\tOrdinal0 [0x00467413+2389011]\n\tOrdinal0 [0x003F9F61+1941345]\n\tOrdinal0 [0x002EC658+837208]\n\tOrdinal0 [0x003191DD+1020381]\n\tOrdinal0 [0x0031949B+1021083]\n\tOrdinal0 [0x00346032+1204274]\n\tOrdinal0 [0x00334194+1130900]\n\tOrdinal0 [0x00344302+1196802]\n\tOrdinal0 [0x00333F66+1130342]\n\tOrdinal0 [0x0030E546+976198]\n\tOrdinal0 [0x0030F456+980054]\n\tGetHandleVerifier [0x00619632+1727522]\n\tGetHandleVerifier [0x006CBA4D+2457661]\n\tGetHandleVerifier [0x004FEB81+569713]\n\tGetHandleVerifier [0x004FDD76+566118]\n\tOrdinal0 [0x00400B2B+1968939]\n\tOrdinal0 [0x00405988+1989000]\n\tOrdinal0 [0x00405A75+1989237]\n\tOrdinal0 [0x0040ECB1+2026673]\n\tBaseThreadInitThunk [0x764AFA29+25]\n\tRtlGetAppContainerNamedObjectPath [0x770B7A7E+286]\n\tRtlGetAppContainerNamedObjectPath [0x770B7A4E+238]\n",
     "output_type": "error",
     "traceback": [
      "\u001b[1;31m---------------------------------------------------------------------------\u001b[0m",
      "\u001b[1;31mNoSuchElementException\u001b[0m                    Traceback (most recent call last)",
      "\u001b[1;32m<ipython-input-34-ea7fce253edd>\u001b[0m in \u001b[0;36m<module>\u001b[1;34m\u001b[0m\n\u001b[0;32m     22\u001b[0m \u001b[1;31m#             if k == 118 and j == 8:\u001b[0m\u001b[1;33m\u001b[0m\u001b[1;33m\u001b[0m\u001b[1;33m\u001b[0m\u001b[0m\n\u001b[0;32m     23\u001b[0m \u001b[1;31m#                 break\u001b[0m\u001b[1;33m\u001b[0m\u001b[1;33m\u001b[0m\u001b[1;33m\u001b[0m\u001b[0m\n\u001b[1;32m---> 24\u001b[1;33m             \u001b[0mname\u001b[0m \u001b[1;33m=\u001b[0m \u001b[0mdriver\u001b[0m\u001b[1;33m.\u001b[0m\u001b[0mfind_element_by_xpath\u001b[0m\u001b[1;33m(\u001b[0m\u001b[1;34m'//*[@id=\"frm\"]/div[3]/div[2]/div['\u001b[0m\u001b[1;33m+\u001b[0m\u001b[0mstr\u001b[0m\u001b[1;33m(\u001b[0m\u001b[0mj\u001b[0m\u001b[1;33m)\u001b[0m\u001b[1;33m+\u001b[0m\u001b[1;34m']/div/div[2]/div/h4'\u001b[0m\u001b[1;33m)\u001b[0m\u001b[1;33m.\u001b[0m\u001b[0mtext\u001b[0m\u001b[1;33m\u001b[0m\u001b[1;33m\u001b[0m\u001b[0m\n\u001b[0m\u001b[0;32m     25\u001b[0m             \u001b[0maddr\u001b[0m \u001b[1;33m=\u001b[0m \u001b[0mdriver\u001b[0m\u001b[1;33m.\u001b[0m\u001b[0mfind_element_by_xpath\u001b[0m\u001b[1;33m(\u001b[0m\u001b[1;34m'//*[@id=\"frm\"]/div[3]/div[2]/div['\u001b[0m\u001b[1;33m+\u001b[0m\u001b[0mstr\u001b[0m\u001b[1;33m(\u001b[0m\u001b[0mj\u001b[0m\u001b[1;33m)\u001b[0m\u001b[1;33m+\u001b[0m\u001b[1;34m']/div/div[3]/div/ul[2]/li[3]/a'\u001b[0m\u001b[1;33m)\u001b[0m\u001b[1;33m.\u001b[0m\u001b[0mtext\u001b[0m\u001b[1;33m\u001b[0m\u001b[1;33m\u001b[0m\u001b[0m\n\u001b[0;32m     26\u001b[0m             \u001b[0mtel\u001b[0m \u001b[1;33m=\u001b[0m \u001b[0mdriver\u001b[0m\u001b[1;33m.\u001b[0m\u001b[0mfind_element_by_xpath\u001b[0m\u001b[1;33m(\u001b[0m\u001b[1;34m'//*[@id=\"frm\"]/div[3]/div[2]/div['\u001b[0m\u001b[1;33m+\u001b[0m\u001b[0mstr\u001b[0m\u001b[1;33m(\u001b[0m\u001b[0mj\u001b[0m\u001b[1;33m)\u001b[0m\u001b[1;33m+\u001b[0m\u001b[1;34m']/div/div[3]/div/ul[2]/li[2]/a'\u001b[0m\u001b[1;33m)\u001b[0m\u001b[1;33m.\u001b[0m\u001b[0mtext\u001b[0m\u001b[1;33m\u001b[0m\u001b[1;33m\u001b[0m\u001b[0m\n",
      "\u001b[1;32m~\\anaconda3\\lib\\site-packages\\selenium\\webdriver\\remote\\webdriver.py\u001b[0m in \u001b[0;36mfind_element_by_xpath\u001b[1;34m(self, xpath)\u001b[0m\n\u001b[0;32m    519\u001b[0m             \u001b[0mstacklevel\u001b[0m\u001b[1;33m=\u001b[0m\u001b[1;36m2\u001b[0m\u001b[1;33m,\u001b[0m\u001b[1;33m\u001b[0m\u001b[1;33m\u001b[0m\u001b[0m\n\u001b[0;32m    520\u001b[0m         )\n\u001b[1;32m--> 521\u001b[1;33m         \u001b[1;32mreturn\u001b[0m \u001b[0mself\u001b[0m\u001b[1;33m.\u001b[0m\u001b[0mfind_element\u001b[0m\u001b[1;33m(\u001b[0m\u001b[0mby\u001b[0m\u001b[1;33m=\u001b[0m\u001b[0mBy\u001b[0m\u001b[1;33m.\u001b[0m\u001b[0mXPATH\u001b[0m\u001b[1;33m,\u001b[0m \u001b[0mvalue\u001b[0m\u001b[1;33m=\u001b[0m\u001b[0mxpath\u001b[0m\u001b[1;33m)\u001b[0m\u001b[1;33m\u001b[0m\u001b[1;33m\u001b[0m\u001b[0m\n\u001b[0m\u001b[0;32m    522\u001b[0m \u001b[1;33m\u001b[0m\u001b[0m\n\u001b[0;32m    523\u001b[0m     \u001b[1;32mdef\u001b[0m \u001b[0mfind_elements_by_xpath\u001b[0m\u001b[1;33m(\u001b[0m\u001b[0mself\u001b[0m\u001b[1;33m,\u001b[0m \u001b[0mxpath\u001b[0m\u001b[1;33m)\u001b[0m \u001b[1;33m->\u001b[0m \u001b[0mList\u001b[0m\u001b[1;33m[\u001b[0m\u001b[0mWebElement\u001b[0m\u001b[1;33m]\u001b[0m\u001b[1;33m:\u001b[0m\u001b[1;33m\u001b[0m\u001b[1;33m\u001b[0m\u001b[0m\n",
      "\u001b[1;32m~\\anaconda3\\lib\\site-packages\\selenium\\webdriver\\remote\\webdriver.py\u001b[0m in \u001b[0;36mfind_element\u001b[1;34m(self, by, value)\u001b[0m\n\u001b[0;32m   1246\u001b[0m             \u001b[0mvalue\u001b[0m \u001b[1;33m=\u001b[0m \u001b[1;34m'[name=\"%s\"]'\u001b[0m \u001b[1;33m%\u001b[0m \u001b[0mvalue\u001b[0m\u001b[1;33m\u001b[0m\u001b[1;33m\u001b[0m\u001b[0m\n\u001b[0;32m   1247\u001b[0m \u001b[1;33m\u001b[0m\u001b[0m\n\u001b[1;32m-> 1248\u001b[1;33m         return self.execute(Command.FIND_ELEMENT, {\n\u001b[0m\u001b[0;32m   1249\u001b[0m             \u001b[1;34m'using'\u001b[0m\u001b[1;33m:\u001b[0m \u001b[0mby\u001b[0m\u001b[1;33m,\u001b[0m\u001b[1;33m\u001b[0m\u001b[1;33m\u001b[0m\u001b[0m\n\u001b[0;32m   1250\u001b[0m             'value': value})['value']\n",
      "\u001b[1;32m~\\anaconda3\\lib\\site-packages\\selenium\\webdriver\\remote\\webdriver.py\u001b[0m in \u001b[0;36mexecute\u001b[1;34m(self, driver_command, params)\u001b[0m\n\u001b[0;32m    423\u001b[0m         \u001b[0mresponse\u001b[0m \u001b[1;33m=\u001b[0m \u001b[0mself\u001b[0m\u001b[1;33m.\u001b[0m\u001b[0mcommand_executor\u001b[0m\u001b[1;33m.\u001b[0m\u001b[0mexecute\u001b[0m\u001b[1;33m(\u001b[0m\u001b[0mdriver_command\u001b[0m\u001b[1;33m,\u001b[0m \u001b[0mparams\u001b[0m\u001b[1;33m)\u001b[0m\u001b[1;33m\u001b[0m\u001b[1;33m\u001b[0m\u001b[0m\n\u001b[0;32m    424\u001b[0m         \u001b[1;32mif\u001b[0m \u001b[0mresponse\u001b[0m\u001b[1;33m:\u001b[0m\u001b[1;33m\u001b[0m\u001b[1;33m\u001b[0m\u001b[0m\n\u001b[1;32m--> 425\u001b[1;33m             \u001b[0mself\u001b[0m\u001b[1;33m.\u001b[0m\u001b[0merror_handler\u001b[0m\u001b[1;33m.\u001b[0m\u001b[0mcheck_response\u001b[0m\u001b[1;33m(\u001b[0m\u001b[0mresponse\u001b[0m\u001b[1;33m)\u001b[0m\u001b[1;33m\u001b[0m\u001b[1;33m\u001b[0m\u001b[0m\n\u001b[0m\u001b[0;32m    426\u001b[0m             response['value'] = self._unwrap_value(\n\u001b[0;32m    427\u001b[0m                 response.get('value', None))\n",
      "\u001b[1;32m~\\anaconda3\\lib\\site-packages\\selenium\\webdriver\\remote\\errorhandler.py\u001b[0m in \u001b[0;36mcheck_response\u001b[1;34m(self, response)\u001b[0m\n\u001b[0;32m    245\u001b[0m                 \u001b[0malert_text\u001b[0m \u001b[1;33m=\u001b[0m \u001b[0mvalue\u001b[0m\u001b[1;33m[\u001b[0m\u001b[1;34m'alert'\u001b[0m\u001b[1;33m]\u001b[0m\u001b[1;33m.\u001b[0m\u001b[0mget\u001b[0m\u001b[1;33m(\u001b[0m\u001b[1;34m'text'\u001b[0m\u001b[1;33m)\u001b[0m\u001b[1;33m\u001b[0m\u001b[1;33m\u001b[0m\u001b[0m\n\u001b[0;32m    246\u001b[0m             \u001b[1;32mraise\u001b[0m \u001b[0mexception_class\u001b[0m\u001b[1;33m(\u001b[0m\u001b[0mmessage\u001b[0m\u001b[1;33m,\u001b[0m \u001b[0mscreen\u001b[0m\u001b[1;33m,\u001b[0m \u001b[0mstacktrace\u001b[0m\u001b[1;33m,\u001b[0m \u001b[0malert_text\u001b[0m\u001b[1;33m)\u001b[0m  \u001b[1;31m# type: ignore[call-arg]  # mypy is not smart enough here\u001b[0m\u001b[1;33m\u001b[0m\u001b[1;33m\u001b[0m\u001b[0m\n\u001b[1;32m--> 247\u001b[1;33m         \u001b[1;32mraise\u001b[0m \u001b[0mexception_class\u001b[0m\u001b[1;33m(\u001b[0m\u001b[0mmessage\u001b[0m\u001b[1;33m,\u001b[0m \u001b[0mscreen\u001b[0m\u001b[1;33m,\u001b[0m \u001b[0mstacktrace\u001b[0m\u001b[1;33m)\u001b[0m\u001b[1;33m\u001b[0m\u001b[1;33m\u001b[0m\u001b[0m\n\u001b[0m\u001b[0;32m    248\u001b[0m \u001b[1;33m\u001b[0m\u001b[0m\n\u001b[0;32m    249\u001b[0m     \u001b[1;32mdef\u001b[0m \u001b[0m_value_or_default\u001b[0m\u001b[1;33m(\u001b[0m\u001b[0mself\u001b[0m\u001b[1;33m,\u001b[0m \u001b[0mobj\u001b[0m\u001b[1;33m:\u001b[0m \u001b[0mMapping\u001b[0m\u001b[1;33m[\u001b[0m\u001b[0m_KT\u001b[0m\u001b[1;33m,\u001b[0m \u001b[0m_VT\u001b[0m\u001b[1;33m]\u001b[0m\u001b[1;33m,\u001b[0m \u001b[0mkey\u001b[0m\u001b[1;33m:\u001b[0m \u001b[0m_KT\u001b[0m\u001b[1;33m,\u001b[0m \u001b[0mdefault\u001b[0m\u001b[1;33m:\u001b[0m \u001b[0m_VT\u001b[0m\u001b[1;33m)\u001b[0m \u001b[1;33m->\u001b[0m \u001b[0m_VT\u001b[0m\u001b[1;33m:\u001b[0m\u001b[1;33m\u001b[0m\u001b[1;33m\u001b[0m\u001b[0m\n",
      "\u001b[1;31mNoSuchElementException\u001b[0m: Message: no such element: Unable to locate element: {\"method\":\"xpath\",\"selector\":\"//*[@id=\"frm\"]/div[3]/div[2]/div[4]/div/div[2]/div/h4\"}\n  (Session info: chrome=100.0.4896.88)\nStacktrace:\nBacktrace:\n\tOrdinal0 [0x00467413+2389011]\n\tOrdinal0 [0x003F9F61+1941345]\n\tOrdinal0 [0x002EC658+837208]\n\tOrdinal0 [0x003191DD+1020381]\n\tOrdinal0 [0x0031949B+1021083]\n\tOrdinal0 [0x00346032+1204274]\n\tOrdinal0 [0x00334194+1130900]\n\tOrdinal0 [0x00344302+1196802]\n\tOrdinal0 [0x00333F66+1130342]\n\tOrdinal0 [0x0030E546+976198]\n\tOrdinal0 [0x0030F456+980054]\n\tGetHandleVerifier [0x00619632+1727522]\n\tGetHandleVerifier [0x006CBA4D+2457661]\n\tGetHandleVerifier [0x004FEB81+569713]\n\tGetHandleVerifier [0x004FDD76+566118]\n\tOrdinal0 [0x00400B2B+1968939]\n\tOrdinal0 [0x00405988+1989000]\n\tOrdinal0 [0x00405A75+1989237]\n\tOrdinal0 [0x0040ECB1+2026673]\n\tBaseThreadInitThunk [0x764AFA29+25]\n\tRtlGetAppContainerNamedObjectPath [0x770B7A7E+286]\n\tRtlGetAppContainerNamedObjectPath [0x770B7A4E+238]\n"
     ]
    }
   ],
   "source": [
    "import time\n",
    "\n",
    "driver = webdriver.Chrome(executable_path='./chromedriver')\n",
    "url = 'https://medisvc.com/hospital/fo/area/250000/hospitallist.sd'\n",
    "driver.get(url)\n",
    "time.sleep(2)\n",
    "\n",
    "driver.find_element_by_xpath('//*[@id=\"hsis_clcd\"]/option[5]').click()\n",
    "time.sleep(1)\n",
    "driver.find_element_by_xpath('//*[@id=\"mdjs_sidocode\"]/option[8]').click()\n",
    "time.sleep(1)\n",
    "driver.find_element_by_xpath('//*[@id=\"frm\"]/div[2]/div[6]/a').click()\n",
    "time.sleep(3)\n",
    "\n",
    "f=open('의원.csv', 'w', newline=\"\")\n",
    "wr = csv.writer(f)\n",
    "wr.writerow(['연번', '의료기관명', '주소', '전화번호'])\n",
    "cnt=1\n",
    "for k in range(119):\n",
    "    for i in range(4,13):\n",
    "        for j in range(1,11):\n",
    "#             if k == 118 and j == 8:\n",
    "#                 break\n",
    "            name = driver.find_element_by_xpath('//*[@id=\"frm\"]/div[3]/div[2]/div['+str(j)+']/div/div[2]/div/h4').text\n",
    "            addr = driver.find_element_by_xpath('//*[@id=\"frm\"]/div[3]/div[2]/div['+str(j)+']/div/div[3]/div/ul[2]/li[3]/a').text\n",
    "            tel = driver.find_element_by_xpath('//*[@id=\"frm\"]/div[3]/div[2]/div['+str(j)+']/div/div[3]/div/ul[2]/li[2]/a').text\n",
    "            wr.writerow([cnt,name,addr,tel])\n",
    "            #print(name, addr, tel)\n",
    "            cnt+=1\n",
    "        time.sleep(3) \n",
    "        driver.find_element_by_xpath('//*[@id=\"frm\"]/div[3]/div[2]/div[11]/div/nav/ul/li['+str(i)+']/a').click()\n",
    "    time.sleep(3)\n",
    "    driver.find_element_by_xpath('//*[@id=\"frm\"]/div[3]/div[2]/div[11]/div/nav/ul/li[13]/a').click()\n",
    "\n",
    "f.close()\n",
    "driver.close()"
   ]
  },
  {
   "cell_type": "code",
   "execution_count": 39,
   "metadata": {},
   "outputs": [
    {
     "name": "stderr",
     "output_type": "stream",
     "text": [
      "<ipython-input-39-1d06331128b9>:3: DeprecationWarning: executable_path has been deprecated, please pass in a Service object\n",
      "  driver = webdriver.Chrome(executable_path='./chromedriver')\n",
      "<ipython-input-39-1d06331128b9>:16: DeprecationWarning: find_element_by_xpath is deprecated. Please use find_element(by=By.XPATH, value=xpath) instead\n",
      "  driver.find_element_by_xpath('//*[@id=\"mdsi_dgsbjtcd\"]/option['+str(i)+']').click()\n",
      "<ipython-input-39-1d06331128b9>:18: DeprecationWarning: find_element_by_xpath is deprecated. Please use find_element(by=By.XPATH, value=xpath) instead\n",
      "  title.append(driver.find_element_by_xpath('//*[@id=\"mdsi_dgsbjtcd\"]/option['+str(i)+']').text)\n",
      "<ipython-input-39-1d06331128b9>:22: DeprecationWarning: find_element_by_xpath is deprecated. Please use find_element(by=By.XPATH, value=xpath) instead\n",
      "  driver.find_element_by_xpath('//*[@id=\"hsis_clcd\"]/option[4]').click()\n",
      "<ipython-input-39-1d06331128b9>:26: DeprecationWarning: find_element_by_xpath is deprecated. Please use find_element(by=By.XPATH, value=xpath) instead\n",
      "  driver.find_element_by_xpath('//*[@id=\"mdjs_sidocode\"]/option[8]').click()\n",
      "<ipython-input-39-1d06331128b9>:30: DeprecationWarning: find_element_by_xpath is deprecated. Please use find_element(by=By.XPATH, value=xpath) instead\n",
      "  driver.find_element_by_xpath('//*[@id=\"frm\"]/div[2]/div[7]/a').click()\n",
      "<ipython-input-39-1d06331128b9>:32: DeprecationWarning: find_element_by_xpath is deprecated. Please use find_element(by=By.XPATH, value=xpath) instead\n",
      "  value.append(driver.find_element_by_xpath('//*[@id=\"frm\"]/div[3]/div[1]/h6/span').text)\n"
     ]
    },
    {
     "data": {
      "text/plain": [
       "53"
      ]
     },
     "execution_count": 39,
     "metadata": {},
     "output_type": "execute_result"
    }
   ],
   "source": [
    "#진료과목 가져오기?\n",
    "\n",
    "driver = webdriver.Chrome(executable_path='./chromedriver')\n",
    "url = 'https://medisvc.com/hospital/fo/department/06/departmenthospitallist.sd'\n",
    "driver.get(url)\n",
    "time.sleep(2)\n",
    "\n",
    "f=open('병원진료과목.csv', 'w', newline=\"\")\n",
    "wr = csv.writer(f)\n",
    "\n",
    "title=[]\n",
    "value=[]\n",
    "\n",
    "for i in range(2, 22):\n",
    "    #진료과선택\n",
    "    driver.find_element_by_xpath('//*[@id=\"mdsi_dgsbjtcd\"]/option['+str(i)+']').click()\n",
    "    #//*[@id=\"mdsi_dgsbjtcd\"]/option[21]\n",
    "    title.append(driver.find_element_by_xpath('//*[@id=\"mdsi_dgsbjtcd\"]/option['+str(i)+']').text)\n",
    "    time.sleep(1)\n",
    "\n",
    "    #병원선택\n",
    "    driver.find_element_by_xpath('//*[@id=\"hsis_clcd\"]/option[4]').click()\n",
    "    time.sleep(1)\n",
    "\n",
    "    #지역선택\n",
    "    driver.find_element_by_xpath('//*[@id=\"mdjs_sidocode\"]/option[8]').click()\n",
    "    time.sleep(1)\n",
    "\n",
    "    #검색클릭\n",
    "    driver.find_element_by_xpath('//*[@id=\"frm\"]/div[2]/div[7]/a').click()\n",
    "    time.sleep(3)\n",
    "    value.append(driver.find_element_by_xpath('//*[@id=\"frm\"]/div[3]/div[1]/h6/span').text)\n",
    "\n",
    "wr.writerow(title)\n",
    "wr.writerow(value)\n",
    "# print(title)\n",
    "# print(value)"
   ]
  },
  {
   "cell_type": "code",
   "execution_count": 42,
   "metadata": {},
   "outputs": [
    {
     "name": "stderr",
     "output_type": "stream",
     "text": [
      "<ipython-input-42-4d0e92283576>:3: DeprecationWarning: executable_path has been deprecated, please pass in a Service object\n",
      "  driver = webdriver.Chrome(executable_path='./chromedriver')\n",
      "<ipython-input-42-4d0e92283576>:16: DeprecationWarning: find_element_by_xpath is deprecated. Please use find_element(by=By.XPATH, value=xpath) instead\n",
      "  driver.find_element_by_xpath('//*[@id=\"mdsi_dgsbjtcd\"]/option['+str(i)+']').click()\n",
      "<ipython-input-42-4d0e92283576>:18: DeprecationWarning: find_element_by_xpath is deprecated. Please use find_element(by=By.XPATH, value=xpath) instead\n",
      "  title.append(driver.find_element_by_xpath('//*[@id=\"mdsi_dgsbjtcd\"]/option['+str(i)+']').text)\n",
      "<ipython-input-42-4d0e92283576>:22: DeprecationWarning: find_element_by_xpath is deprecated. Please use find_element(by=By.XPATH, value=xpath) instead\n",
      "  driver.find_element_by_xpath('//*[@id=\"hsis_clcd\"]/option[6]').click()\n",
      "<ipython-input-42-4d0e92283576>:26: DeprecationWarning: find_element_by_xpath is deprecated. Please use find_element(by=By.XPATH, value=xpath) instead\n",
      "  driver.find_element_by_xpath('//*[@id=\"mdjs_sidocode\"]/option[8]').click()\n",
      "<ipython-input-42-4d0e92283576>:30: DeprecationWarning: find_element_by_xpath is deprecated. Please use find_element(by=By.XPATH, value=xpath) instead\n",
      "  driver.find_element_by_xpath('//*[@id=\"frm\"]/div[2]/div[7]/a').click()\n",
      "<ipython-input-42-4d0e92283576>:32: DeprecationWarning: find_element_by_xpath is deprecated. Please use find_element(by=By.XPATH, value=xpath) instead\n",
      "  value.append(driver.find_element_by_xpath('//*[@id=\"frm\"]/div[3]/div[1]/h6/span').text)\n"
     ]
    },
    {
     "data": {
      "text/plain": [
       "70"
      ]
     },
     "execution_count": 42,
     "metadata": {},
     "output_type": "execute_result"
    }
   ],
   "source": [
    "#진료과목 가져오기?\n",
    "\n",
    "driver = webdriver.Chrome(executable_path='./chromedriver')\n",
    "url = 'https://medisvc.com/hospital/fo/department/06/departmenthospitallist.sd'\n",
    "driver.get(url)\n",
    "time.sleep(2)\n",
    "\n",
    "f=open('의원진료과목.csv', 'w', newline=\"\")\n",
    "wr = csv.writer(f)\n",
    "\n",
    "title=[]\n",
    "value=[]\n",
    "\n",
    "for i in range(2, 22):\n",
    "    #진료과선택\n",
    "    driver.find_element_by_xpath('//*[@id=\"mdsi_dgsbjtcd\"]/option['+str(i)+']').click()\n",
    "    #//*[@id=\"mdsi_dgsbjtcd\"]/option[21]\n",
    "    title.append(driver.find_element_by_xpath('//*[@id=\"mdsi_dgsbjtcd\"]/option['+str(i)+']').text)\n",
    "    time.sleep(1)\n",
    "\n",
    "    #병원선택\n",
    "    driver.find_element_by_xpath('//*[@id=\"hsis_clcd\"]/option[6]').click()\n",
    "    time.sleep(1)\n",
    "\n",
    "    #지역선택\n",
    "    driver.find_element_by_xpath('//*[@id=\"mdjs_sidocode\"]/option[8]').click()\n",
    "    time.sleep(1)\n",
    "\n",
    "    #검색클릭\n",
    "    driver.find_element_by_xpath('//*[@id=\"frm\"]/div[2]/div[7]/a').click()\n",
    "    time.sleep(3)\n",
    "    value.append(driver.find_element_by_xpath('//*[@id=\"frm\"]/div[3]/div[1]/h6/span').text)\n",
    "\n",
    "wr.writerow(title)\n",
    "wr.writerow(value)"
   ]
  },
  {
   "cell_type": "code",
   "execution_count": 46,
   "metadata": {},
   "outputs": [],
   "source": [
    "f.close()"
   ]
  }
 ],
 "metadata": {
  "kernelspec": {
   "display_name": "Python 3",
   "language": "python",
   "name": "python3"
  },
  "language_info": {
   "codemirror_mode": {
    "name": "ipython",
    "version": 3
   },
   "file_extension": ".py",
   "mimetype": "text/x-python",
   "name": "python",
   "nbconvert_exporter": "python",
   "pygments_lexer": "ipython3",
   "version": "3.8.3"
  }
 },
 "nbformat": 4,
 "nbformat_minor": 4
}
