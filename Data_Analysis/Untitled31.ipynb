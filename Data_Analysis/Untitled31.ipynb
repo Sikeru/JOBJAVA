{
 "cells": [
  {
   "cell_type": "code",
   "execution_count": 67,
   "metadata": {},
   "outputs": [
    {
     "name": "stdout",
     "output_type": "stream",
     "text": [
      "                   A         B         C\n",
      "2000-01-01  0.032883  0.496445  0.989632\n",
      "2000-01-02  0.147780  0.511957  0.984043\n",
      "2000-01-03  0.817362  0.457245  0.653914\n",
      "2000-01-04  0.532928  0.516078  0.671910\n",
      "2000-01-05  0.232568  0.383444  0.203557\n",
      "2000-01-06  0.698360  0.991267  0.229050\n",
      "2000-01-07  0.965227  0.379955  0.140614\n",
      "2000-01-08  0.404421  0.254305  0.009616\n",
      "                   A         B         C\n",
      "2000-01-01 -0.167117  0.496445  0.989632\n",
      "2000-01-02 -0.052220  0.511957  0.984043\n",
      "2000-01-03  0.617362  0.457245  0.653914\n",
      "2000-01-04  0.332928  0.516078  0.671910\n",
      "2000-01-05  0.032568  0.383444  0.203557\n",
      "2000-01-06  0.498360  0.991267  0.229050\n",
      "2000-01-07  0.765227  0.379955  0.140614\n",
      "2000-01-08  0.204421  0.254305  0.009616\n"
     ]
    }
   ],
   "source": [
    "import pandas as pd\n",
    "import numpy as np\n",
    "index = pd.date_range('1/1/2000', periods=8)\n",
    "#print(index)\n",
    "\n",
    "df = pd.DataFrame(np.random.rand(8, 3), index=index, columns=list('ABC'))\n",
    "print(df)\n",
    "\n",
    "df['A'] = df['A'].sub(0.2, axis = 0)\n",
    "print(df)\n",
    "# df['D'] = df['A']/df['B']\n",
    "# df['E'] = np.sum(df, axis = 1)\n",
    "# print(df)\n",
    "# df1=np.sum(df, axis=0)\n",
    "# print(df1)\n",
    "# df1 = df[df['B']>0.4]\n",
    "# print(df1.T)"
   ]
  }
 ],
 "metadata": {
  "kernelspec": {
   "display_name": "Python 3",
   "language": "python",
   "name": "python3"
  },
  "language_info": {
   "codemirror_mode": {
    "name": "ipython",
    "version": 3
   },
   "file_extension": ".py",
   "mimetype": "text/x-python",
   "name": "python",
   "nbconvert_exporter": "python",
   "pygments_lexer": "ipython3",
   "version": "3.8.3"
  }
 },
 "nbformat": 4,
 "nbformat_minor": 4
}
