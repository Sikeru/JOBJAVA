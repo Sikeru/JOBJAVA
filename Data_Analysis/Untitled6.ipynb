{
 "cells": [
  {
   "cell_type": "code",
   "execution_count": 10,
   "metadata": {},
   "outputs": [
    {
     "name": "stdout",
     "output_type": "stream",
     "text": [
      "[]\n"
     ]
    }
   ],
   "source": [
    "import csv\n",
    "f = open('인구현황.csv', 'r', encoding='cp949')\n",
    "\n",
    "data = csv.reader(f)\n",
    "\n",
    "ages = []\n",
    "for i in data:\n",
    "    if '수곡1동' in row[0]:\n",
    "        for i in range(104):\n",
    "            ages.append(int(row[i]))\n",
    "            \n",
    "print(ages)    "
   ]
  }
 ],
 "metadata": {
  "kernelspec": {
   "display_name": "Python 3",
   "language": "python",
   "name": "python3"
  },
  "language_info": {
   "codemirror_mode": {
    "name": "ipython",
    "version": 3
   },
   "file_extension": ".py",
   "mimetype": "text/x-python",
   "name": "python",
   "nbconvert_exporter": "python",
   "pygments_lexer": "ipython3",
   "version": "3.8.3"
  }
 },
 "nbformat": 4,
 "nbformat_minor": 4
}
