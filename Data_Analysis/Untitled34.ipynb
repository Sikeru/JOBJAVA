{
 "cells": [
  {
   "cell_type": "code",
   "execution_count": 16,
   "metadata": {},
   "outputs": [
    {
     "ename": "SyntaxError",
     "evalue": "invalid syntax (<ipython-input-16-cf782077ef31>, line 28)",
     "output_type": "error",
     "traceback": [
      "\u001b[1;36m  File \u001b[1;32m\"<ipython-input-16-cf782077ef31>\"\u001b[1;36m, line \u001b[1;32m28\u001b[0m\n\u001b[1;33m    print(key, ' : ', value)\u001b[0m\n\u001b[1;37m    ^\u001b[0m\n\u001b[1;31mSyntaxError\u001b[0m\u001b[1;31m:\u001b[0m invalid syntax\n"
     ]
    }
   ],
   "source": [
    "import csv\n",
    "import matplotlib.pyplot as plt\n",
    "\n",
    "with open('ta_all.csv', 'r', encoding='cp949') as f:\n",
    "    data = csv.reader(f, delimiter=',')\n",
    "    #print(data)\n",
    "    header = next(data)\n",
    "    datas =[]\n",
    "    for row in data:\n",
    "        if '20' in row[0][0:4] and '2022' not in row[0][0:4] :\n",
    "            datas.append(row)\n",
    "            #print(row)\n",
    "            \n",
    "months_kma = []\n",
    "for row in datas:\n",
    "    if row[0][5:7] not in months_kma:\n",
    "        months_kma[row[0][5:7]]=['', 0]\n",
    "        months_kma[row[0][5:7]][0] = float(row[4])\n",
    "        months_kma[row[0][5:7]][1] = 1\n",
    "    else:\n",
    "        months_kma[row[0][5:7]] += float(row[4])\n",
    "        months_kma[row[0][5:7]][1] += 1\n",
    "\n",
    "plt_data = []\n",
    "for key, value in months_kma.items():\n",
    "    print('{}월 평균기온 {:.2f}'.format(key, value[0]/value[1]))\n",
    "    plt_data('{}월 평균기온 {:.2f}'.format(key, value[0]/value[1])\n",
    "    print(key, ' : ', value)"
   ]
  }
 ],
 "metadata": {
  "kernelspec": {
   "display_name": "Python 3",
   "language": "python",
   "name": "python3"
  },
  "language_info": {
   "codemirror_mode": {
    "name": "ipython",
    "version": 3
   },
   "file_extension": ".py",
   "mimetype": "text/x-python",
   "name": "python",
   "nbconvert_exporter": "python",
   "pygments_lexer": "ipython3",
   "version": "3.8.3"
  }
 },
 "nbformat": 4,
 "nbformat_minor": 4
}
